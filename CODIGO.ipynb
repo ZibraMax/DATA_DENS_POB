{
 "cells": [
  {
   "cell_type": "code",
   "execution_count": null,
   "metadata": {},
   "outputs": [],
   "source": [
    "!pip install numpy\n",
    "!pip install pandas\n",
    "!pip install matplotlib"
   ]
  },
  {
   "cell_type": "code",
   "execution_count": null,
   "metadata": {},
   "outputs": [],
   "source": [
    "import numpy as np\n",
    "import pandas as pd\n",
    "import matplotlib\n",
    "import matplotlib.pyplot as plt\n",
    "\n",
    "#Funciones Generales:\n",
    "def cm2inch(*tupl):\n",
    "    inch = 2.54\n",
    "    if isinstance(tupl[0], tuple):\n",
    "        return tuple(i/inch for i in tupl[0])\n",
    "    else:\n",
    "        return tuple(i/inch for i in tupl)"
   ]
  },
  {
   "cell_type": "markdown",
   "metadata": {},
   "source": [
    "# Configuraciones:"
   ]
  },
  {
   "cell_type": "markdown",
   "metadata": {},
   "source": [
    "## Colores"
   ]
  },
  {
   "cell_type": "code",
   "execution_count": null,
   "metadata": {},
   "outputs": [],
   "source": [
    "COLOR_ALTO = (237,248,177)\n",
    "COLOR_MEDIO = (127,205,187)\n",
    "COLOR_BAJO =(44,127,184)\n",
    "\n",
    "\n",
    "#No modificar\n",
    "color_parser = lambda x: x/255\n",
    "\n",
    "COLOR_ALTO = list(map(color_parser,COLOR_ALTO))\n",
    "COLOR_MEDIO = list(map(color_parser,COLOR_MEDIO))\n",
    "COLOR_BAJO = list(map(color_parser,COLOR_BAJO))"
   ]
  },
  {
   "cell_type": "markdown",
   "metadata": {},
   "source": [
    "## Tamaño de Fuentes"
   ]
  },
  {
   "cell_type": "code",
   "execution_count": null,
   "metadata": {},
   "outputs": [],
   "source": [
    "SMALL_SIZE = 8\n",
    "MEDIUM_SIZE = 10\n",
    "BIGGER_SIZE = 12\n",
    "\n",
    "plt.rc('font', size=SMALL_SIZE)          # controls default text sizes\n",
    "plt.rc('axes', titlesize=SMALL_SIZE)     # fontsize of the axes title\n",
    "plt.rc('axes', labelsize=MEDIUM_SIZE)    # fontsize of the x and y labels\n",
    "plt.rc('xtick', labelsize=SMALL_SIZE)    # fontsize of the tick labels\n",
    "plt.rc('ytick', labelsize=SMALL_SIZE)    # fontsize of the tick labels\n",
    "plt.rc('legend', fontsize=SMALL_SIZE)    # legend fontsize\n",
    "plt.rc('figure', titlesize=BIGGER_SIZE)  # fontsize of the figure title"
   ]
  },
  {
   "cell_type": "markdown",
   "metadata": {},
   "source": [
    "## Formato de guardado"
   ]
  },
  {
   "cell_type": "code",
   "execution_count": null,
   "metadata": {},
   "outputs": [],
   "source": [
    "FORMATO_GUARDADO = 'svg' #Se puede usar png, jpg, svg"
   ]
  },
  {
   "cell_type": "markdown",
   "metadata": {},
   "source": [
    "# Graficas de validacíon de RF"
   ]
  },
  {
   "cell_type": "markdown",
   "metadata": {},
   "source": [
    "## Importancia"
   ]
  },
  {
   "cell_type": "code",
   "execution_count": null,
   "metadata": {},
   "outputs": [],
   "source": [
    "BASE_GRAFICA_CM = 12.8 #Cambia el tamaño de la grafica\n",
    "ALTURA_GRAFICA_CM = 9.6 #Cambia el tamaño de la grafica\n",
    "\n",
    "DATA = np.array([['CBD',0.9292],['LV',0.8904],['SES',0.5058],['MTFR',1],['MRN',0.5005],['MPTTS',0.4935],['HS',0.4845],['PP',0.5678],['ES',0.2969]])\n",
    "DATA = np.array(sorted(DATA,key=lambda x: x[1]))\n",
    "fig, ax = plt.subplots(figsize=cm2inch(BASE_GRAFICA_CM, ALTURA_GRAFICA_CM))\n",
    "people = DATA[:,0]\n",
    "y_pos = np.arange(len(people))\n",
    "\n",
    "performance = DATA[:,1].astype(float)\n",
    "\n",
    "\n",
    "\n",
    "ax.barh(y_pos, performance, align='center',color = COLOR_BAJO)\n",
    "ax.set_yticks(y_pos)\n",
    "ax.set_yticklabels(people)\n",
    "ax.set_xlabel('Scaled Importance')\n",
    "#ax.set_title('Variable Importance')\n",
    "plt.savefig('Variable_Importance.'+FORMATO_GUARDADO) #NOMBRE DE ARCHIVO DE GUARDADO (USAR SVG PARA CALIDAD COMPLETA O PNG PARA CALIDAD NORMAL)"
   ]
  },
  {
   "cell_type": "markdown",
   "metadata": {},
   "source": [
    "## Numero de Árboles"
   ]
  },
  {
   "cell_type": "code",
   "execution_count": null,
   "metadata": {},
   "outputs": [],
   "source": [
    "BASE_GRAFICA_CM = 12.8  #Cambia el tamaño de la grafica\n",
    "ALTURA_GRAFICA_CM = 9.6  #Cambia el tamaño de la grafica\n",
    "\n",
    "porcentajes = [10,20,30,40,50]\n",
    "data = []\n",
    "fig, ax = plt.subplots(figsize=cm2inch(BASE_GRAFICA_CM, ALTURA_GRAFICA_CM))\n",
    "for i in porcentajes:\n",
    "    data.append(np.loadtxt(format(i)+'.txt'))\n",
    "    ax.plot(data[-1][:,0],data[-1][:,1],label=format(i)+'%')\n",
    "#plt.title('Sensitivity Iterations for Number of Trees')  #TITULO DE LA GRÁFICA\n",
    "plt.xlabel('Number of Trees') #RÓTULO EJE X\n",
    "plt.ylabel('R²') #RÓTULO EJE Y\n",
    "plt.legend(loc=\"upper right\")\n",
    "plt.savefig('Number_Trees.'+FORMATO_GUARDADO) #NOMBRE DE ARCHIVO DE GUARDADO (USAR SVG PARA CALIDAD COMPLETA O PNG PARA CALIDAD NORMAL)"
   ]
  },
  {
   "cell_type": "markdown",
   "metadata": {},
   "source": [
    "## Validación"
   ]
  },
  {
   "cell_type": "code",
   "execution_count": null,
   "metadata": {},
   "outputs": [],
   "source": [
    "BASE_GRAFICA_CM = 12.8  #Cambia el tamaño de la grafica\n",
    "ALTURA_GRAFICA_CM = 9.6  #Cambia el tamaño de la grafica\n",
    "\n",
    "data = np.loadtxt('validation.csv',delimiter=',')\n",
    "fig, ax = plt.subplots(figsize=cm2inch(BASE_GRAFICA_CM, ALTURA_GRAFICA_CM))\n",
    "\n",
    "X = data[:,0]\n",
    "Y = data[:,1]\n",
    "TAMAÑO_PUNTO = [1]*len(X)\n",
    "ax.scatter(X,Y,label='Data',s = TAMAÑO_PUNTO,color = COLOR_BAJO)\n",
    "X = np.linspace(np.min(X),np.max(X),2)\n",
    "m, b = [0.8103,120.61]\n",
    "plt.plot(X, m*X + b,'--',color=(127/255,205/255,187/255),label='Lineal Regression: y = ' + format(m) + 'x + ' + format(b) + '\\n' + r'R² = 0.9287')\n",
    "#plt.title('SUR Random Forest Model Validation')  #TITULO DE LA GRÁFICA\n",
    "plt.xlabel('Real Population Density') #RÓTULO EJE X\n",
    "plt.ylabel('Predicted Population Density') #RÓTULO EJE Y\n",
    "plt.legend()\n",
    "plt.savefig('validation.'+FORMATO_GUARDADO) #NOMBRE DE ARCHIVO DE GUARDADO (USAR SVG PARA CALIDAD COMPLETA O PNG PARA CALIDAD NORMAL)"
   ]
  },
  {
   "cell_type": "markdown",
   "metadata": {},
   "source": [
    "# Histogramas"
   ]
  },
  {
   "cell_type": "markdown",
   "metadata": {},
   "source": [
    "## Densidad"
   ]
  },
  {
   "cell_type": "markdown",
   "metadata": {},
   "source": [
    "### ESCENARIO 1"
   ]
  },
  {
   "cell_type": "code",
   "execution_count": null,
   "metadata": {},
   "outputs": [],
   "source": [
    "BASE_GRAFICA_CM = 12.8  #Cambia el tamaño de la grafica\n",
    "ALTURA_GRAFICA_CM = 9.6  #Cambia el tamaño de la grafica\n",
    "\n",
    "\n",
    "fig, ax = plt.subplots(figsize=cm2inch(BASE_GRAFICA_CM, ALTURA_GRAFICA_CM))\n",
    "\n",
    "bins = 50  #NUMERO DE BARRAS DEL HISTOGRAMA\n",
    "FILE = 'E1.csv'  #ARCHIVO DE RESULTADOS\n",
    "df = pd.read_csv(FILE)\n",
    "cex = df['SES']=='ALTO'\n",
    "cex1 = df['SES']=='MEDIO'\n",
    "cex2 = df['SES']=='BAJO'\n",
    "\n",
    "exx = df['DensPob_Pr'].values[cex]\n",
    "exx1 = df['DensPob_Pr'].values[cex1]\n",
    "exx2 = df['DensPob_Pr'].values[cex2]\n",
    "\n",
    "DATA = np.array([exx,exx1,exx2])\n",
    "labels = ['High','Medium','Low']  #LABELS DE LA LEYENDA\n",
    "ax.hist(DATA, stacked=True,color=[COLOR_ALTO,COLOR_MEDIO,COLOR_BAJO],bins = int(bins),edgecolor = 'black',label=labels)\n",
    "\n",
    "\n",
    "\n",
    "#plt.title('Histogram of Population Density for Scenario 1')  #TITULO DE LA GRÁFICA\n",
    "\n",
    "ax.set_xlabel('Population Density [hab/ha]') #RÓTULO EJE X\n",
    "ax.set_ylabel('Frequency') #RÓTULO EJE Y\n",
    "ax.legend(loc=\"upper right\")\n",
    "plt.savefig('E1DENS.'+FORMATO_GUARDADO) #NOMBRE DE ARCHIVO DE GUARDADO (USAR SVG PARA CALIDAD COMPLETA O PNG PARA CALIDAD NORMAL)"
   ]
  },
  {
   "cell_type": "markdown",
   "metadata": {},
   "source": [
    "### ESCENARIO 2"
   ]
  },
  {
   "cell_type": "code",
   "execution_count": null,
   "metadata": {},
   "outputs": [],
   "source": [
    "BASE_GRAFICA_CM = 12.8  #Cambia el tamaño de la grafica\n",
    "ALTURA_GRAFICA_CM = 9.6  #Cambia el tamaño de la grafica\n",
    "\n",
    "\n",
    "fig, ax = plt.subplots(figsize=cm2inch(BASE_GRAFICA_CM, ALTURA_GRAFICA_CM))\n",
    "\n",
    "bins = 50  #NUMERO DE BARRAS DEL HISTOGRAMA\n",
    "FILE = 'E2.csv'  #ARCHIVO DE RESULTADOS\n",
    "df = pd.read_csv(FILE)\n",
    "cex = df['SES']=='ALTO'\n",
    "cex1 = df['SES']=='MEDIO'\n",
    "cex2 = df['SES']=='BAJO'\n",
    "\n",
    "exx = df['DensPob_Pr'].values[cex]\n",
    "exx1 = df['DensPob_Pr'].values[cex1]\n",
    "exx2 = df['DensPob_Pr'].values[cex2]\n",
    "\n",
    "DATA = np.array([exx,exx1,exx2])\n",
    "labels = ['High','Medium','Low']  #LABELS DE LA LEYENDA\n",
    "ax.hist(DATA, stacked=True,color=[COLOR_ALTO,COLOR_MEDIO,COLOR_BAJO],bins = int(bins),edgecolor = 'black',label=labels)\n",
    "\n",
    "\n",
    "#plt.title('Histogram of Population Density for Scenario 2')  #TITULO DE LA GRÁFICA\n",
    "\n",
    "\n",
    "ax.set_xlabel('Population Density [hab/ha]') #RÓTULO EJE X\n",
    "ax.set_ylabel('Frequency') #RÓTULO EJE Y\n",
    "ax.legend(loc=\"upper right\")\n",
    "plt.savefig('E2DENS.'+FORMATO_GUARDADO) #NOMBRE DE ARCHIVO DE GUARDADO (USAR SVG PARA CALIDAD COMPLETA O PNG PARA CALIDAD NORMAL)"
   ]
  },
  {
   "cell_type": "markdown",
   "metadata": {},
   "source": [
    "## Viajes"
   ]
  },
  {
   "cell_type": "code",
   "execution_count": null,
   "metadata": {},
   "outputs": [],
   "source": [
    "BASE_GRAFICA_CM = 12.8  #Cambia el tamaño de la grafica\n",
    "ALTURA_GRAFICA_CM = 9.6  #Cambia el tamaño de la grafica\n",
    "\n",
    "\n",
    "fig, ax = plt.subplots(figsize=cm2inch(BASE_GRAFICA_CM, ALTURA_GRAFICA_CM))\n",
    "\n",
    "\n",
    "bins = 50 #NUMERO DE BARRAS DEL HISTOGRAMA\n",
    "df = pd.read_csv('E1.csv') #ARCHIVO DE RESULTADOS\n",
    "cex = df['SES']=='ALTO'\n",
    "cex1 = df['SES']=='MEDIO'\n",
    "cex2 = df['SES']=='BAJO'\n",
    "\n",
    "exx = df['VAIAJES'].values[cex]\n",
    "exx1 = df['VAIAJES'].values[cex1]\n",
    "exx2 = df['VAIAJES'].values[cex2]\n",
    "DATA = np.array([exx,exx1,exx2])\n",
    "labels = ['High','Medium','Low'] #LABELS DE LA LEYENDA\n",
    "ax.hist(DATA, stacked=True,color=[COLOR_ALTO,COLOR_MEDIO,COLOR_BAJO],bins = int(bins),edgecolor = 'black',label=labels)\n",
    "#plt.title('Histogram of Trips for Scenario 1') #TITULO DE LA GRÁFICA\n",
    "ax.set_xlabel('Trips [Trip/Block]') #RÓTULO EJE X\n",
    "\n",
    "ax.set_ylabel('Frequency') #RÓTULO EJE Y\n",
    "\n",
    "ax.legend(loc=\"upper right\")\n",
    "\n",
    "plt.savefig('E1TRIPS.'+FORMATO_GUARDADO) #NOMBRE DE ARCHIVO DE GUARDADO (USAR SVG PARA CALIDAD COMPLETA O PNG PARA CALIDAD NORMAL)"
   ]
  },
  {
   "cell_type": "code",
   "execution_count": null,
   "metadata": {},
   "outputs": [],
   "source": [
    "BASE_GRAFICA_CM = 12.8  #Cambia el tamaño de la grafica\n",
    "ALTURA_GRAFICA_CM = 9.6  #Cambia el tamaño de la grafica\n",
    "\n",
    "\n",
    "fig, ax = plt.subplots(figsize=cm2inch(BASE_GRAFICA_CM, ALTURA_GRAFICA_CM))\n",
    "\n",
    "bins = 50 #NUMERO DE BARRAS DEL HISTOGRAMA\n",
    "df = pd.read_csv('E2.csv') #ARCHIVO DE RESULTADOS\n",
    "cex = df['SES']=='ALTO'\n",
    "cex1 = df['SES']=='MEDIO'\n",
    "cex2 = df['SES']=='BAJO'\n",
    "\n",
    "exx = df['VAIAJES'].values[cex]\n",
    "exx1 = df['VAIAJES'].values[cex1]\n",
    "exx2 = df['VAIAJES'].values[cex2]\n",
    "DATA = np.array([exx,exx1,exx2])\n",
    "labels = ['High','Medium','Low'] #LABELS DE LA LEYENDA\n",
    "ax.hist(DATA, stacked=True,color=[COLOR_ALTO,COLOR_MEDIO,COLOR_BAJO],bins = int(bins),edgecolor = 'black',label=labels)\n",
    "#plt.title('Histogram of Trips for Scenario 2') #TITULO DE LA GRÁFICA\n",
    "ax.set_xlabel('Trips [Trip/Block]') #RÓTULO EJE X\n",
    "ax.set_ylabel('Frequency') #RÓTULO EJE Y\n",
    "ax.legend(loc=\"upper right\")\n",
    "plt.savefig('E2TRIPS.'+FORMATO_GUARDADO) #NOMBRE DE ARCHIVO DE GUARDADO (USAR SVG PARA CALIDAD COMPLETA O PNG PARA CALIDAD NORMAL)"
   ]
  }
 ],
 "metadata": {
  "kernelspec": {
   "display_name": "Python 3",
   "language": "python",
   "name": "python3"
  },
  "language_info": {
   "codemirror_mode": {
    "name": "ipython",
    "version": 3
   },
   "file_extension": ".py",
   "mimetype": "text/x-python",
   "name": "python",
   "nbconvert_exporter": "python",
   "pygments_lexer": "ipython3",
   "version": "3.7.5"
  }
 },
 "nbformat": 4,
 "nbformat_minor": 4
}
